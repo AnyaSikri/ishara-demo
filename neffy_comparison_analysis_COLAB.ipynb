{
  "cells": [
    {
      "cell_type": "markdown",
      "metadata": {},
      "source": [
        "# Neffy WoW vs Z-Score Comparison Analysis\n",
        "## Google Colab Version\n",
        "\n",
        "This notebook runs the dual-method analysis comparing:\n",
        "- **WoW Method** (Week-over-Week % Change)\n",
        "- **Z-Score Method** (Statistical Analysis with 8-week baseline)\n",
        "\n",
        "---\n",
        "\n",
        "### 📋 Instructions:\n",
        "1. Run cell 1 to upload `scripts.py` and `neffy_scripts_google_cloud.csv`\n",
        "2. Run the rest of the cells to see the analysis\n",
        "\n",
        "---\n"
      ]
    },
    {
      "cell_type": "markdown",
      "metadata": {},
      "source": [
        "## Step 1: Upload Required Files\n"
      ]
    },
    {
      "cell_type": "code",
      "execution_count": null,
      "metadata": {},
      "outputs": [],
      "source": [
        "from google.colab import files\n",
        "\n",
        "print(\"📁 Please upload these 2 files from your computer:\")\n",
        "print(\"   1. scripts.py\")\n",
        "print(\"   2. neffy_scripts_google_cloud.csv\")\n",
        "print(\"\\nClick 'Choose Files' below and select both files\\n\")\n",
        "\n",
        "uploaded = files.upload()\n",
        "\n",
        "print(\"\\n✅ Files uploaded successfully!\")\n"
      ]
    },
    {
      "cell_type": "markdown",
      "metadata": {},
      "source": [
        "## Step 2: Configure Custom Thresholds (Optional)\n"
      ]
    },
    {
      "cell_type": "code",
      "execution_count": null,
      "metadata": {},
      "outputs": [],
      "source": [
        "# @title 🎛️ Configure Analysis Settings (Edit values, then run)\n",
        "\n",
        "# CSV File Path\n",
        "csv_filename = \"neffy_scripts_google_cloud.csv\"  # @param {type:\"string\"}\n",
        "\n",
        "# WoW Method Thresholds (percentage values)\n",
        "wow_inline_threshold = None  # @param {type:\"number\"}\n",
        "wow_slight_threshold = None  # @param {type:\"number\"}\n",
        "wow_meaningful_threshold = None  # @param {type:\"number\"}\n",
        "\n",
        "# Z-Score Method Thresholds (z-score values)\n",
        "zscore_slight_threshold = None  # @param {type:\"number\"}\n",
        "zscore_meaningful_threshold = None  # @param {type:\"number\"}\n",
        "\n",
        "# Baseline Window (weeks for Z-score calculation)\n",
        "baseline_window = None  # @param {type:\"number\"}\n",
        "\n",
        "print(\"=\"*60)\n",
        "print(\"🎛️  ANALYSIS CONFIGURATION\")\n",
        "print(\"=\"*60)\n",
        "print(f\"\\n📁 Data Source:\")\n",
        "print(f\"   CSV File: {csv_filename}\")\n",
        "print(f\"\\n📊 WoW Method:\")\n",
        "print(f\"   In-Line threshold: {wow_inline_threshold if wow_inline_threshold else 'Auto (based on drug maturity)'}\")\n",
        "print(f\"   Slight threshold: {wow_slight_threshold if wow_slight_threshold else 'Auto (based on drug maturity)'}\")\n",
        "print(f\"   Meaningful threshold: {wow_meaningful_threshold if wow_meaningful_threshold else 'Auto (based on drug maturity)'}\")\n",
        "print(f\"\\n📈 Z-Score Method:\")\n",
        "print(f\"   Slight threshold: {zscore_slight_threshold if zscore_slight_threshold else 'Auto (1.0)'}\")\n",
        "print(f\"   Meaningful threshold: {zscore_meaningful_threshold if zscore_meaningful_threshold else 'Auto (2.0)'}\")\n",
        "print(f\"   Baseline window: {baseline_window if baseline_window else 'Auto (based on drug maturity)'} weeks\")\n",
        "print(\"\\n💡 Tip: Edit values above and re-run to experiment!\")\n",
        "print(\"=\"*60)\n"
      ]
    },
    {
      "cell_type": "markdown",
      "metadata": {},
      "source": [
        "## Step 3: Run the Analysis\n"
      ]
    },
    {
      "cell_type": "code",
      "execution_count": null,
      "metadata": {},
      "outputs": [],
      "source": [
        "import importlib\n",
        "import scripts\n",
        "importlib.reload(scripts)\n",
        "from scripts import main\n",
        "\n",
        "# Run the complete analysis with custom settings\n",
        "fig, df_wow, df_zscore, differences = main(\n",
        "    filepath=csv_filename,\n",
        "    custom_wow_inline=wow_inline_threshold,\n",
        "    custom_wow_slight=wow_slight_threshold,\n",
        "    custom_wow_meaningful=wow_meaningful_threshold,\n",
        "    custom_zscore_slight=zscore_slight_threshold,\n",
        "    custom_zscore_meaningful=zscore_meaningful_threshold,\n",
        "    custom_baseline_window=baseline_window\n",
        ")\n"
      ]
    },
    {
      "cell_type": "markdown",
      "metadata": {},
      "source": [
        "## Step 4: Display the Interactive Visualization\n"
      ]
    },
    {
      "cell_type": "code",
      "execution_count": null,
      "metadata": {},
      "outputs": [],
      "source": [
        "# Show the 4-panel comparison chart\n",
        "fig.show()\n"
      ]
    },
    {
      "cell_type": "markdown",
      "metadata": {},
      "source": [
        "## Step 5: Explore WoW Results\n"
      ]
    },
    {
      "cell_type": "code",
      "execution_count": null,
      "metadata": {},
      "outputs": [],
      "source": [
        "# View first 10 weeks\n",
        "print(\"📊 WoW Method Results:\")\n",
        "df_wow.head(10)\n"
      ]
    },
    {
      "cell_type": "markdown",
      "metadata": {},
      "source": [
        "\n"
      ]
    },
    {
      "cell_type": "code",
      "execution_count": null,
      "metadata": {},
      "outputs": [],
      "source": [
        "# View first 10 weeks\n",
        "print(\"📊 WoW Method Results:\")\n",
        "df_wow.head(10)\n"
      ]
    },
    {
      "cell_type": "code",
      "execution_count": null,
      "metadata": {},
      "outputs": [],
      "source": [
        "# Classification breakdown\n",
        "print(\"📈 WoW Classification Breakdown:\")\n",
        "df_wow['classification'].value_counts()\n"
      ]
    },
    {
      "cell_type": "markdown",
      "metadata": {},
      "source": [
        "## Step 5: Explore Z-Score Results\n"
      ]
    },
    {
      "cell_type": "code",
      "execution_count": null,
      "metadata": {},
      "outputs": [],
      "source": [
        "# View first 10 weeks\n",
        "print(\"📊 Z-Score Method Results:\")\n",
        "df_zscore.head(10)\n"
      ]
    },
    {
      "cell_type": "code",
      "execution_count": null,
      "metadata": {},
      "outputs": [],
      "source": [
        "# Classification breakdown\n",
        "print(\"📈 Z-Score Classification Breakdown:\")\n",
        "df_zscore['classification'].value_counts()\n"
      ]
    },
    {
      "cell_type": "markdown",
      "metadata": {},
      "source": [
        "## Step 6: View Disagreements Between Methods\n"
      ]
    },
    {
      "cell_type": "code",
      "execution_count": null,
      "metadata": {},
      "outputs": [],
      "source": [
        "# Show all disagreements\n",
        "print(f\"🔍 Found {len(differences)} weeks where methods disagree\\n\")\n",
        "differences\n"
      ]
    },
    {
      "cell_type": "code",
      "execution_count": null,
      "metadata": {},
      "outputs": [],
      "source": [
        "# Holiday week disagreements\n",
        "print(\"🎄 Disagreements during holiday weeks:\")\n",
        "holiday_diffs = differences[differences['is_holiday_week'] == True]\n",
        "holiday_diffs[['week_number', 'date', 'scripts', 'holiday_name', \n",
        "               'wow_classification', 'wow_pct', 'zscore_classification', 'z_score']]\n"
      ]
    },
    {
      "cell_type": "markdown",
      "metadata": {},
      "source": [
        "## Step 7: Download Results (Optional)\n"
      ]
    },
    {
      "cell_type": "code",
      "execution_count": null,
      "metadata": {},
      "outputs": [],
      "source": [
        "# Uncomment to download results\n",
        "# df_wow.to_csv('neffy_wow_results.csv', index=False)\n",
        "# df_zscore.to_csv('neffy_zscore_results.csv', index=False)\n",
        "# differences.to_csv('neffy_disagreements.csv', index=False)\n",
        "\n",
        "# files.download('neffy_wow_results.csv')\n",
        "# files.download('neffy_zscore_results.csv')\n",
        "# files.download('neffy_disagreements.csv')\n",
        "\n",
        "# Uncomment to download chart as HTML\n",
        "# fig.write_html('neffy_comparison_chart.html')\n",
        "# files.download('neffy_comparison_chart.html')\n"
      ]
    },
    {
      "cell_type": "markdown",
      "metadata": {},
      "source": [
        "\n"
      ]
    },
    {
      "cell_type": "markdown",
      "metadata": {},
      "source": [
        "\n"
      ]
    },
    {
      "cell_type": "code",
      "execution_count": null,
      "metadata": {},
      "outputs": [],
      "source": [
        "\n"
      ]
    },
    {
      "cell_type": "code",
      "execution_count": null,
      "metadata": {},
      "outputs": [],
      "source": [
        "\n"
      ]
    },
    {
      "cell_type": "markdown",
      "metadata": {},
      "source": [
        "\n"
      ]
    },
    {
      "cell_type": "code",
      "execution_count": null,
      "metadata": {},
      "outputs": [],
      "source": [
        "\n"
      ]
    }
  ],
  "metadata": {
    "language_info": {
      "name": "python"
    }
  },
  "nbformat": 4,
  "nbformat_minor": 2
}
