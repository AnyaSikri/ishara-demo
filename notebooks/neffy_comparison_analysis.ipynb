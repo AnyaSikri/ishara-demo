{
  "cells": [
    {
      "cell_type": "markdown",
      "metadata": {},
      "source": [
        "# Neffy WoW vs Z-Score Comparison Analysis\n",
        "\n",
        "This notebook runs the dual-method analysis comparing:\n",
        "- **WoW Method** (Week-over-Week % Change)\n",
        "- **Z-Score Method** (Statistical Analysis with 8-week baseline)\n",
        "\n",
        "---\n"
      ]
    },
    {
      "cell_type": "markdown",
      "metadata": {},
      "source": [
        "## 1. Import and Run Analysis\n"
      ]
    },
    {
      "cell_type": "code",
      "execution_count": null,
      "metadata": {},
      "outputs": [],
      "source": [
        "from scripts import main\n",
        "\n",
        "# Run the complete analysis\n",
        "fig, df_wow, df_zscore, differences = main()\n"
      ]
    },
    {
      "cell_type": "markdown",
      "metadata": {},
      "source": [
        "## 2. Display Interactive Visualization\n"
      ]
    },
    {
      "cell_type": "code",
      "execution_count": null,
      "metadata": {},
      "outputs": [],
      "source": [
        "# Show the 4-panel comparison chart\n",
        "fig.show()\n"
      ]
    },
    {
      "cell_type": "markdown",
      "metadata": {},
      "source": [
        "## 3. Explore WoW Results\n"
      ]
    },
    {
      "cell_type": "code",
      "execution_count": null,
      "metadata": {},
      "outputs": [],
      "source": [
        "# View WoW method results\n",
        "print(\"📊 WoW Method Results (First 10 weeks):\")\n",
        "df_wow.head(10)\n"
      ]
    },
    {
      "cell_type": "code",
      "execution_count": null,
      "metadata": {},
      "outputs": [],
      "source": [
        "# WoW classification breakdown\n",
        "print(\"\\n📈 WoW Classification Breakdown:\")\n",
        "df_wow['classification'].value_counts()\n"
      ]
    },
    {
      "cell_type": "markdown",
      "metadata": {},
      "source": [
        "## 4. Explore Z-Score Results\n"
      ]
    },
    {
      "cell_type": "code",
      "execution_count": null,
      "metadata": {},
      "outputs": [],
      "source": [
        "# View Z-Score method results\n",
        "print(\"📊 Z-Score Method Results (First 10 weeks):\")\n",
        "df_zscore.head(10)\n"
      ]
    },
    {
      "cell_type": "code",
      "execution_count": null,
      "metadata": {},
      "outputs": [],
      "source": [
        "# Z-Score classification breakdown\n",
        "print(\"\\n📈 Z-Score Classification Breakdown:\")\n",
        "df_zscore['classification'].value_counts()\n"
      ]
    },
    {
      "cell_type": "markdown",
      "metadata": {},
      "source": [
        "## 5. Analyze Disagreements\n"
      ]
    },
    {
      "cell_type": "code",
      "execution_count": null,
      "metadata": {},
      "outputs": [],
      "source": [
        "# View all weeks where methods disagree\n",
        "print(f\"\\n🔍 Found {len(differences)} weeks where methods disagree:\\n\")\n",
        "differences\n"
      ]
    },
    {
      "cell_type": "code",
      "execution_count": null,
      "metadata": {},
      "outputs": [],
      "source": [
        "# Focus on holiday week disagreements\n",
        "print(\"\\n🎄 Disagreements during holiday weeks:\")\n",
        "holiday_diffs = differences[differences['is_holiday_week'] == True]\n",
        "holiday_diffs[['week_number', 'date', 'scripts', 'holiday_name', \n",
        "               'wow_classification', 'wow_pct', 'zscore_classification', 'z_score']]\n"
      ]
    },
    {
      "cell_type": "markdown",
      "metadata": {},
      "source": [
        "## 6. Export Results (Optional)\n"
      ]
    },
    {
      "cell_type": "code",
      "execution_count": null,
      "metadata": {},
      "outputs": [],
      "source": [
        "# Uncomment to export results to CSV\n",
        "# df_wow.to_csv('neffy_wow_results.csv', index=False)\n",
        "# df_zscore.to_csv('neffy_zscore_results.csv', index=False)\n",
        "# differences.to_csv('neffy_disagreements.csv', index=False)\n",
        "# print(\"✅ Results exported to CSV files\")\n",
        "\n",
        "# Uncomment to save chart as HTML\n",
        "# fig.write_html('neffy_comparison_chart.html')\n",
        "# print(\"✅ Chart saved as HTML\")\n"
      ]
    }
  ],
  "metadata": {
    "language_info": {
      "name": "python"
    }
  },
  "nbformat": 4,
  "nbformat_minor": 2
}
